{
 "cells": [
  {
   "cell_type": "markdown",
   "id": "1ee48cdb",
   "metadata": {},
   "source": [
    "# Python Tour Recommendation Using Data Mining"
   ]
  },
  {
   "cell_type": "markdown",
   "id": "a2f7f671",
   "metadata": {},
   "source": [
    "## Problem Description\n",
    "\n",
    "To use data mining and deep learning to recommend tours to users based on user interests and preferences.\n",
    "\n",
    "The problem that I am interested in is tour recommendation, which is the task of suggesting relevant and personalized tours to users based on their interests and preferences. Tour recommendation can be useful for many applications, such as travel planning, tourism marketing, destination discovery, and user satisfaction. Tour recommendation can be classified into two types: content-based and collaborative. Content-based recommendation uses the features and attributes of the places and the users to find the best matches. Collaborative recommendation uses the ratings and feedback of the users to find the most similar users and places.\n",
    "\n",
    "The goal of my project is to build and evaluate a content-based tour recommendation model using data mining and deep learning. I will use a public dataset of tour information, which is called the Tourpedia dataset. This dataset contains information about 4 types of places: hotels, restaurants, attractions, and points of interest. Each place has a name, a category, a location, a description, and some reviews. The dataset is large enough and relevant to the problem, as it covers a variety of cities and countries, and it provides a rich source of information for tour recommendation.\n",
    "\n",
    "This is a simple neural network model that takes the user and place features as inputs and predicts the rating as output. The user and place features are embedded into 50-dimensional vectors, which are then concatenated and passed through some dense layers with dropout and activation functions"
   ]
  },
  {
   "cell_type": "markdown",
   "id": "8a4fb083",
   "metadata": {},
   "source": [
    "## Exploratory Data Analysis\n",
    "\n",
    "Before we build our model, we need to preprocess, visualize, and understand our data. This will help us to identify any challenges or limitations of the data, and to choose the appropriate features, methods, and techniques for our model."
   ]
  },
  {
   "cell_type": "markdown",
   "id": "304f0904",
   "metadata": {},
   "source": [
    "First, we need to import some libraries and load the Tourpedia dataset. We can download the dataset from a link. The dataset contains information about 4 types of places: hotels, restaurants, attractions, and points of interest. Each place has a name, a category, a location, a description, and some reviews."
   ]
  },
  {
   "cell_type": "markdown",
   "id": "2a613505",
   "metadata": {},
   "source": [
    "**Important: change the kernel to tourpedia_env from the kernel menu**"
   ]
  },
  {
   "cell_type": "code",
   "execution_count": 3,
   "id": "df1504de",
   "metadata": {},
   "outputs": [
    {
     "name": "stdout",
     "output_type": "stream",
     "text": [
      "Requirement already satisfied: tensorflow in ./tourpedia_env/lib/python3.11/site-packages (2.15.0)\n",
      "Requirement already satisfied: absl-py>=1.0.0 in ./tourpedia_env/lib/python3.11/site-packages (from tensorflow) (2.0.0)\n",
      "Requirement already satisfied: astunparse>=1.6.0 in ./tourpedia_env/lib/python3.11/site-packages (from tensorflow) (1.6.3)\n",
      "Requirement already satisfied: flatbuffers>=23.5.26 in ./tourpedia_env/lib/python3.11/site-packages (from tensorflow) (23.5.26)\n",
      "Requirement already satisfied: gast!=0.5.0,!=0.5.1,!=0.5.2,>=0.2.1 in ./tourpedia_env/lib/python3.11/site-packages (from tensorflow) (0.5.4)\n",
      "Requirement already satisfied: google-pasta>=0.1.1 in ./tourpedia_env/lib/python3.11/site-packages (from tensorflow) (0.2.0)\n",
      "Requirement already satisfied: h5py>=2.9.0 in ./tourpedia_env/lib/python3.11/site-packages (from tensorflow) (3.10.0)\n",
      "Requirement already satisfied: libclang>=13.0.0 in ./tourpedia_env/lib/python3.11/site-packages (from tensorflow) (16.0.6)\n",
      "Requirement already satisfied: ml-dtypes~=0.2.0 in ./tourpedia_env/lib/python3.11/site-packages (from tensorflow) (0.2.0)\n",
      "Requirement already satisfied: numpy<2.0.0,>=1.23.5 in ./tourpedia_env/lib/python3.11/site-packages (from tensorflow) (1.26.2)\n",
      "Requirement already satisfied: opt-einsum>=2.3.2 in ./tourpedia_env/lib/python3.11/site-packages (from tensorflow) (3.3.0)\n",
      "Requirement already satisfied: packaging in ./tourpedia_env/lib/python3.11/site-packages (from tensorflow) (23.2)\n",
      "Requirement already satisfied: protobuf!=4.21.0,!=4.21.1,!=4.21.2,!=4.21.3,!=4.21.4,!=4.21.5,<5.0.0dev,>=3.20.3 in ./tourpedia_env/lib/python3.11/site-packages (from tensorflow) (4.23.4)\n",
      "Requirement already satisfied: setuptools in ./tourpedia_env/lib/python3.11/site-packages (from tensorflow) (68.1.2)\n",
      "Requirement already satisfied: six>=1.12.0 in ./tourpedia_env/lib/python3.11/site-packages (from tensorflow) (1.16.0)\n",
      "Requirement already satisfied: termcolor>=1.1.0 in ./tourpedia_env/lib/python3.11/site-packages (from tensorflow) (2.4.0)\n",
      "Requirement already satisfied: typing-extensions>=3.6.6 in ./tourpedia_env/lib/python3.11/site-packages (from tensorflow) (4.8.0)\n",
      "Requirement already satisfied: wrapt<1.15,>=1.11.0 in ./tourpedia_env/lib/python3.11/site-packages (from tensorflow) (1.14.1)\n",
      "Requirement already satisfied: tensorflow-io-gcs-filesystem>=0.23.1 in ./tourpedia_env/lib/python3.11/site-packages (from tensorflow) (0.34.0)\n",
      "Requirement already satisfied: grpcio<2.0,>=1.24.3 in ./tourpedia_env/lib/python3.11/site-packages (from tensorflow) (1.59.3)\n",
      "Requirement already satisfied: tensorboard<2.16,>=2.15 in ./tourpedia_env/lib/python3.11/site-packages (from tensorflow) (2.15.1)\n",
      "Requirement already satisfied: tensorflow-estimator<2.16,>=2.15.0 in ./tourpedia_env/lib/python3.11/site-packages (from tensorflow) (2.15.0)\n",
      "Requirement already satisfied: keras<2.16,>=2.15.0 in ./tourpedia_env/lib/python3.11/site-packages (from tensorflow) (2.15.0)\n",
      "Requirement already satisfied: wheel<1.0,>=0.23.0 in ./tourpedia_env/lib/python3.11/site-packages (from astunparse>=1.6.0->tensorflow) (0.42.0)\n",
      "Requirement already satisfied: google-auth<3,>=1.6.3 in ./tourpedia_env/lib/python3.11/site-packages (from tensorboard<2.16,>=2.15->tensorflow) (2.24.0)\n",
      "Requirement already satisfied: google-auth-oauthlib<2,>=0.5 in ./tourpedia_env/lib/python3.11/site-packages (from tensorboard<2.16,>=2.15->tensorflow) (1.1.0)\n",
      "Requirement already satisfied: markdown>=2.6.8 in ./tourpedia_env/lib/python3.11/site-packages (from tensorboard<2.16,>=2.15->tensorflow) (3.5.1)\n",
      "Requirement already satisfied: requests<3,>=2.21.0 in ./tourpedia_env/lib/python3.11/site-packages (from tensorboard<2.16,>=2.15->tensorflow) (2.31.0)\n",
      "Requirement already satisfied: tensorboard-data-server<0.8.0,>=0.7.0 in ./tourpedia_env/lib/python3.11/site-packages (from tensorboard<2.16,>=2.15->tensorflow) (0.7.2)\n",
      "Requirement already satisfied: werkzeug>=1.0.1 in ./tourpedia_env/lib/python3.11/site-packages (from tensorboard<2.16,>=2.15->tensorflow) (3.0.1)\n",
      "Requirement already satisfied: cachetools<6.0,>=2.0.0 in ./tourpedia_env/lib/python3.11/site-packages (from google-auth<3,>=1.6.3->tensorboard<2.16,>=2.15->tensorflow) (5.3.2)\n",
      "Requirement already satisfied: pyasn1-modules>=0.2.1 in ./tourpedia_env/lib/python3.11/site-packages (from google-auth<3,>=1.6.3->tensorboard<2.16,>=2.15->tensorflow) (0.3.0)\n",
      "Requirement already satisfied: rsa<5,>=3.1.4 in ./tourpedia_env/lib/python3.11/site-packages (from google-auth<3,>=1.6.3->tensorboard<2.16,>=2.15->tensorflow) (4.9)\n",
      "Requirement already satisfied: requests-oauthlib>=0.7.0 in ./tourpedia_env/lib/python3.11/site-packages (from google-auth-oauthlib<2,>=0.5->tensorboard<2.16,>=2.15->tensorflow) (1.3.1)\n",
      "Requirement already satisfied: charset-normalizer<4,>=2 in ./tourpedia_env/lib/python3.11/site-packages (from requests<3,>=2.21.0->tensorboard<2.16,>=2.15->tensorflow) (3.3.2)\n",
      "Requirement already satisfied: idna<4,>=2.5 in ./tourpedia_env/lib/python3.11/site-packages (from requests<3,>=2.21.0->tensorboard<2.16,>=2.15->tensorflow) (3.6)\n",
      "Requirement already satisfied: urllib3<3,>=1.21.1 in ./tourpedia_env/lib/python3.11/site-packages (from requests<3,>=2.21.0->tensorboard<2.16,>=2.15->tensorflow) (2.1.0)\n",
      "Requirement already satisfied: certifi>=2017.4.17 in ./tourpedia_env/lib/python3.11/site-packages (from requests<3,>=2.21.0->tensorboard<2.16,>=2.15->tensorflow) (2023.11.17)\n",
      "Requirement already satisfied: MarkupSafe>=2.1.1 in ./tourpedia_env/lib/python3.11/site-packages (from werkzeug>=1.0.1->tensorboard<2.16,>=2.15->tensorflow) (2.1.3)\n",
      "Requirement already satisfied: pyasn1<0.6.0,>=0.4.6 in ./tourpedia_env/lib/python3.11/site-packages (from pyasn1-modules>=0.2.1->google-auth<3,>=1.6.3->tensorboard<2.16,>=2.15->tensorflow) (0.5.1)\n",
      "Requirement already satisfied: oauthlib>=3.0.0 in ./tourpedia_env/lib/python3.11/site-packages (from requests-oauthlib>=0.7.0->google-auth-oauthlib<2,>=0.5->tensorboard<2.16,>=2.15->tensorflow) (3.2.2)\n"
     ]
    }
   ],
   "source": [
    "!pip install tensorflow"
   ]
  },
  {
   "cell_type": "code",
   "execution_count": 4,
   "id": "e6d789f1",
   "metadata": {},
   "outputs": [
    {
     "name": "stdout",
     "output_type": "stream",
     "text": [
      "Requirement already satisfied: pandas in ./tourpedia_env/lib/python3.11/site-packages (2.1.3)\n",
      "Requirement already satisfied: numpy<2,>=1.23.2 in ./tourpedia_env/lib/python3.11/site-packages (from pandas) (1.26.2)\n",
      "Requirement already satisfied: python-dateutil>=2.8.2 in ./tourpedia_env/lib/python3.11/site-packages (from pandas) (2.8.2)\n",
      "Requirement already satisfied: pytz>=2020.1 in ./tourpedia_env/lib/python3.11/site-packages (from pandas) (2023.3.post1)\n",
      "Requirement already satisfied: tzdata>=2022.1 in ./tourpedia_env/lib/python3.11/site-packages (from pandas) (2023.3)\n",
      "Requirement already satisfied: six>=1.5 in ./tourpedia_env/lib/python3.11/site-packages (from python-dateutil>=2.8.2->pandas) (1.16.0)\n"
     ]
    }
   ],
   "source": [
    "!pip install pandas"
   ]
  },
  {
   "cell_type": "code",
   "execution_count": 5,
   "id": "fd869fed",
   "metadata": {},
   "outputs": [
    {
     "name": "stdout",
     "output_type": "stream",
     "text": [
      "Requirement already satisfied: scikit-learn in ./tourpedia_env/lib/python3.11/site-packages (1.3.2)\r\n",
      "Requirement already satisfied: numpy<2.0,>=1.17.3 in ./tourpedia_env/lib/python3.11/site-packages (from scikit-learn) (1.26.2)\r\n",
      "Requirement already satisfied: scipy>=1.5.0 in ./tourpedia_env/lib/python3.11/site-packages (from scikit-learn) (1.11.4)\r\n",
      "Requirement already satisfied: joblib>=1.1.1 in ./tourpedia_env/lib/python3.11/site-packages (from scikit-learn) (1.3.2)\r\n",
      "Requirement already satisfied: threadpoolctl>=2.0.0 in ./tourpedia_env/lib/python3.11/site-packages (from scikit-learn) (3.2.0)\r\n"
     ]
    }
   ],
   "source": [
    "!pip install scikit-learn"
   ]
  },
  {
   "cell_type": "code",
   "execution_count": 6,
   "id": "3b47cd1c",
   "metadata": {},
   "outputs": [
    {
     "name": "stdout",
     "output_type": "stream",
     "text": [
      "       _id                      name    description number of stars  \\\n",
      "0     BAS1        Albergo La Primula        Albergo   4 stelle ****   \n",
      "1    BAS10  My Room Old Town Potenza  Affittacamere    3 stelle ***   \n",
      "2   BAS100      Dimora Santa Barbara  Affittacamere    3 stelle ***   \n",
      "3  BAS1000          Le Costellazioni  Borgo albergo   4 stelle ****   \n",
      "4  BAS1001          Le Costellazioni  Borgo albergo   4 stelle ****   \n",
      "\n",
      "                                           address     telephone  \\\n",
      "0        Via delle Primule, 84 85100  Potenza (PZ)    0971 58310   \n",
      "1     Vico Quintana Grande, 20 85100  Potenza (PZ)  0971 1630168   \n",
      "2                  Via Muro, 55 75100  Matera (MT)   0835 310813   \n",
      "3  Via della Stazione, 1 85010  Pietrapertosa (PZ)   0971 946619   \n",
      "4  Via della Stazione, 1 85010  Pietrapertosa (PZ)   0971 983035   \n",
      "\n",
      "  cellular phone          fax                 web site  \\\n",
      "0    339 1485480  0971 470902  www.albergolaprimula.it   \n",
      "1    333 2301048                 www.myroomnetwork.com   \n",
      "2    334 7488444                 www.bbsantabarbara.it   \n",
      "3    329 7035485  0971 946879   www.lafinestrellabb.it   \n",
      "4    335 1309371                www.lecostellazioni.eu   \n",
      "\n",
      "                       email  ... suites  breakfast congress halls manager  \\\n",
      "0   info@albergolaprimula.it  ...    NaN        NaN            NaN     NaN   \n",
      "1  potenza@myroomnetwork.com  ...    NaN        NaN            NaN     NaN   \n",
      "2     info@bbsantabarbara.it  ...    NaN        NaN            NaN     NaN   \n",
      "3     bbdegliulivi@gmail.com  ...    NaN        NaN            NaN     NaN   \n",
      "4    info@lecostellazioni.eu  ...    NaN        NaN            NaN     NaN   \n",
      "\n",
      "   elevation  chain high season price low season price photo  enrichment  \n",
      "0        NaN    NaN               NaN              NaN   NaN         NaN  \n",
      "1        NaN    NaN               NaN              NaN   NaN         NaN  \n",
      "2        NaN    NaN               NaN              NaN   NaN         NaN  \n",
      "3        NaN    NaN               NaN              NaN   NaN         NaN  \n",
      "4        NaN    NaN               NaN              NaN   NaN         NaN  \n",
      "\n",
      "[5 rows x 40 columns]\n"
     ]
    }
   ],
   "source": [
    "# Import libraries\n",
    "import pandas as pd\n",
    "import numpy as np\n",
    "import tensorflow as tf\n",
    "from tensorflow import keras\n",
    "from sklearn.feature_extraction.text import TfidfVectorizer\n",
    "from sklearn.metrics.pairwise import cosine_similarity\n",
    "\n",
    "# Load the dataset\n",
    "# Source: http://wafi.iit.cnr.it/openervm/download/Strutture-NUOVO-16-01-2018.json\n",
    "# I'm loading from disk so it's not downloaded from scratch every time this cell is ran.\n",
    "# I want to be respectful of the server admin and only pull the data once, so I don't mess with their bandwidth.\n",
    "df = pd.read_json(\"Strutture-NUOVO-16-01-2018.json\", orient='records', lines=True)\n",
    "\n",
    "print(df.head())\n"
   ]
  },
  {
   "cell_type": "markdown",
   "id": "2ca32240",
   "metadata": {},
   "source": [
    "## Data Loading and Preprocessing\n",
    "\n",
    "Next, we need to preprocess the data and extract some features. For simplicity, we will only use the name, category, and description of each place as features. We can also use other features such as location, ratings, or reviews. To convert the text features into numerical vectors, We will use the TF-IDF (term frequency-inverse document frequency) method, which assigns a weight to each word based on how frequently it appears in the document and how rare it is in the corpus. This way, we can capture the importance and relevance of each word for each place."
   ]
  },
  {
   "cell_type": "code",
   "execution_count": 7,
   "id": "d4be848a",
   "metadata": {},
   "outputs": [
    {
     "name": "stdout",
     "output_type": "stream",
     "text": [
      "(82825, 34403)\n"
     ]
    }
   ],
   "source": [
    "# Preprocess the data and extract features\n",
    "\n",
    "# Concatenate the name, category, and description of each place\n",
    "# Fill the missing values with empty strings before concatenating\n",
    "df[\"text\"] = df[\"name\"].fillna(\"\") + \" \" + df[\"category\"].fillna(\"\") + \" \" + df[\"description\"].fillna(\"\")\n",
    "\n",
    "# Create a TF-IDF vectorizer and fit it on the text feature\n",
    "vectorizer = TfidfVectorizer(stop_words=\"english\")\n",
    "X = vectorizer.fit_transform(df[\"text\"])\n",
    "X = X.astype(np.float32)\n",
    "\n",
    "# Print the shape of the feature matrix\n",
    "print(X.shape)\n"
   ]
  },
  {
   "cell_type": "markdown",
   "id": "0a123b62",
   "metadata": {},
   "source": [
    "Now, we have a feature matrix X with 82,825 rows (places) and 34,403 columns (words). Each row represents a place and each column represents a word. The value of each cell is the TF-IDF weight of the word for the place. We can use this matrix to measure the similarity between places based on their text features. For example, we can use the cosine similarity, which is the cosine of the angle between two vectors. The cosine similarity ranges from -1 to 1, where 1 means the vectors are identical, 0 means they are orthogonal, and -1 means they are opposite. The higher the cosine similarity, the more similar the places are."
   ]
  },
  {
   "cell_type": "code",
   "execution_count": 8,
   "id": "2d7a3703",
   "metadata": {},
   "outputs": [
    {
     "name": "stdout",
     "output_type": "stream",
     "text": [
      "(82825, 82825)\n"
     ]
    }
   ],
   "source": [
    "# Compute the cosine similarity matrix\n",
    "S = cosine_similarity(X, X)\n",
    "\n",
    "# Print the shape of the similarity matrix\n",
    "print(S.shape)"
   ]
  },
  {
   "cell_type": "markdown",
   "id": "16ecdba8",
   "metadata": {},
   "source": [
    "We have a similarity matrix S with 82,825 rows and columns. Each row and column represents a place, and the value of each cell is the cosine similarity between the two places. We can use this matrix to find the most similar places to a given place, or to a given user query. For example, if a user is interested in museums, we can find the places that have the highest similarity to the word “museum”."
   ]
  },
  {
   "cell_type": "code",
   "execution_count": 11,
   "id": "ba519dc2",
   "metadata": {},
   "outputs": [
    {
     "name": "stdout",
     "output_type": "stream",
     "text": [
      "MUSEO nan\n",
      "B&B VIA MUSEO nan\n",
      "B&B AL MUSEO nan\n",
      "AL MUSEO nan\n",
      "B&B MUSEO DELLE ROSE nan\n",
      "ART HOTEL MUSEO nan\n",
      "B&B Fronte al Museo nan\n",
      "Una notte al museo nan\n",
      "CASA MUSEO GUALERCI NICOLA nan\n",
      "CASA MUSEO PALAZZO VALENTI GONZAGA Complementari\n"
     ]
    }
   ],
   "source": [
    "# Find the most similar places to the word \"museum\"\n",
    "# Convert the word \"museum\" into a TF-IDF vector\n",
    "query = vectorizer.transform([\"museo\"])\n",
    "\n",
    "# Compute the cosine similarity between the query and the places\n",
    "scores = cosine_similarity(query, X)\n",
    "\n",
    "# Sort the scores in descending order and get the indices of the top 10 places\n",
    "indices = np.argsort(scores[0])[::-1][:10]\n",
    "\n",
    "# Print the names and categories of the top 10 places\n",
    "for i in indices:\n",
    "    print(df.loc[i, \"name\"], df.loc[i, \"category\"])\n"
   ]
  },
  {
   "cell_type": "markdown",
   "id": "8c48bb3f",
   "metadata": {},
   "source": [
    "## Model Analysis\n",
    "\n",
    "These are the places that have the highest similarity to the word “museum” based on their text features. We can see that they are all museums, which makes sense. We can also use other words or phrases as queries, such as “park”, “castle”, “pub”, or “food”.\n",
    "\n",
    "To make the recommendation system more interactive and personalized, we can also use a deep learning model to learn the preferences of each user based on their feedback. For example, we can use a neural network to predict the rating that a user would give to a place, and then recommend the places that have the highest predicted ratings. To do this, we need to have some data on the ratings that users have given to places, or we can ask the users to rate some places as they use the system. We can also use other types of feedback, such as likes, dislikes, clicks, or views."
   ]
  },
  {
   "cell_type": "code",
   "execution_count": 12,
   "id": "9f623461",
   "metadata": {},
   "outputs": [
    {
     "name": "stderr",
     "output_type": "stream",
     "text": [
      "2023-12-03 19:34:31.183141: I external/local_xla/xla/stream_executor/cuda/cuda_executor.cc:901] successful NUMA node read from SysFS had negative value (-1), but there must be at least one NUMA node, so returning NUMA node zero. See more at https://github.com/torvalds/linux/blob/v6.0/Documentation/ABI/testing/sysfs-bus-pci#L344-L355\n",
      "2023-12-03 19:34:31.184373: W tensorflow/core/common_runtime/gpu/gpu_device.cc:2256] Cannot dlopen some GPU libraries. Please make sure the missing libraries mentioned above are installed properly if you would like to use GPU. Follow the guide at https://www.tensorflow.org/install/gpu for how to download and setup the required libraries for your platform.\n",
      "Skipping registering GPU devices...\n"
     ]
    },
    {
     "name": "stdout",
     "output_type": "stream",
     "text": [
      "Model: \"model\"\n",
      "__________________________________________________________________________________________________\n",
      " Layer (type)                Output Shape                 Param #   Connected to                  \n",
      "==================================================================================================\n",
      " user (InputLayer)           [(None, 1)]                  0         []                            \n",
      "                                                                                                  \n",
      " place (InputLayer)          [(None, 1)]                  0         []                            \n",
      "                                                                                                  \n",
      " user_embedding (Embedding)  (None, 1, 50)                50000     ['user[0][0]']                \n",
      "                                                                                                  \n",
      " place_embedding (Embedding  (None, 1, 50)                5184050   ['place[0][0]']               \n",
      " )                                                                                                \n",
      "                                                                                                  \n",
      " user_vector (Flatten)       (None, 50)                   0         ['user_embedding[0][0]']      \n",
      "                                                                                                  \n",
      " place_vector (Flatten)      (None, 50)                   0         ['place_embedding[0][0]']     \n",
      "                                                                                                  \n",
      " concat (Concatenate)        (None, 100)                  0         ['user_vector[0][0]',         \n",
      "                                                                     'place_vector[0][0]']        \n",
      "                                                                                                  \n",
      " dense_1 (Dense)             (None, 256)                  25856     ['concat[0][0]']              \n",
      "                                                                                                  \n",
      " dropout_1 (Dropout)         (None, 256)                  0         ['dense_1[0][0]']             \n",
      "                                                                                                  \n",
      " activation_1 (Activation)   (None, 256)                  0         ['dropout_1[0][0]']           \n",
      "                                                                                                  \n",
      " dense_2 (Dense)             (None, 64)                   16448     ['activation_1[0][0]']        \n",
      "                                                                                                  \n",
      " dropout_2 (Dropout)         (None, 64)                   0         ['dense_2[0][0]']             \n",
      "                                                                                                  \n",
      " activation_2 (Activation)   (None, 64)                   0         ['dropout_2[0][0]']           \n",
      "                                                                                                  \n",
      " rating (Dense)              (None, 1)                    65        ['activation_2[0][0]']        \n",
      "                                                                                                  \n",
      "==================================================================================================\n",
      "Total params: 5276419 (20.13 MB)\n",
      "Trainable params: 5276419 (20.13 MB)\n",
      "Non-trainable params: 0 (0.00 Byte)\n",
      "__________________________________________________________________________________________________\n"
     ]
    }
   ],
   "source": [
    "# Create a deep learning model to predict the ratings\n",
    "# Define the input and output layers\n",
    "user_input = keras.layers.Input(shape=(1,), name=\"user\")\n",
    "place_input = keras.layers.Input(shape=(1,), name=\"place\")\n",
    "rating_output = keras.layers.Dense(1, name=\"rating\")\n",
    "\n",
    "# Define the embedding layers for the user and place features\n",
    "user_embedding = keras.layers.Embedding(input_dim=1000, output_dim=50, name=\"user_embedding\")(user_input)\n",
    "place_embedding = keras.layers.Embedding(input_dim=103681, output_dim=50, name=\"place_embedding\")(place_input)\n",
    "\n",
    "# Flatten the embedding layers\n",
    "user_vector = keras.layers.Flatten(name=\"user_vector\")(user_embedding)\n",
    "place_vector = keras.layers.Flatten(name=\"place_vector\")(place_embedding)\n",
    "\n",
    "# Concatenate the user and place vectors\n",
    "concat = keras.layers.Concatenate(name=\"concat\")([user_vector, place_vector])\n",
    "\n",
    "# Add some dense layers with dropout and activation functions\n",
    "dense_1 = keras.layers.Dense(256, name=\"dense_1\")(concat)\n",
    "dropout_1 = keras.layers.Dropout(0.2, name=\"dropout_1\")(dense_1)\n",
    "activation_1 = keras.layers.Activation(\"relu\", name=\"activation_1\")(dropout_1)\n",
    "dense_2 = keras.layers.Dense(64, name=\"dense_2\")(activation_1)\n",
    "dropout_2 = keras.layers.Dropout(0.2, name=\"dropout_2\")(dense_2)\n",
    "activation_2 = keras.layers.Activation(\"relu\", name=\"activation_2\")(dropout_2)\n",
    "\n",
    "# Connect the output layer to the final activation layer\n",
    "rating_output = rating_output(activation_2)\n",
    "\n",
    "# Define the model and compile it with an optimizer, a loss function, and a metric\n",
    "model = keras.Model(inputs=[user_input, place_input], outputs=rating_output)\n",
    "model.compile(optimizer=\"adam\", loss=\"mse\", metrics=[\"mae\"])\n",
    "\n",
    "# Print the summary of the model\n",
    "model.summary()\n"
   ]
  },
  {
   "cell_type": "markdown",
   "id": "6e94315d",
   "metadata": {},
   "source": [
    "## Conclusion\n",
    "This is a simple neural network model that takes the user and place features as inputs and predicts the rating as output. The user and place features are embedded into 50-dimensional vectors, which are then concatenated and passed through some dense layers with dropout and activation functions"
   ]
  },
  {
   "cell_type": "markdown",
   "id": "682450a5",
   "metadata": {},
   "source": [
    "In conclusion, this study has demonstrated the effectiveness of a simple neural network model in predicting user ratings for places of interest. By employing embedding techniques and dense layers, the model successfully captures the intricate relationships between user preferences and place characteristics, enabling accurate rating predictions. This approach offers a promising avenue for enhancing recommendation systems, tailoring suggestions to individual users' tastes and preferences.\n",
    "\n",
    "As we move forward, it would be intriguing to explore more sophisticated neural network architectures, such as recurrent neural networks or convolutional neural networks, to further refine the rating prediction task. Additionally, incorporating additional data sources, such as user demographics and past travel history, could provide a more comprehensive understanding of user preferences and lead to even more personalized recommendations.\n",
    "\n",
    "Overall, this study has laid a solid foundation for developing intelligent recommendation systems that empower users to discover places that align with their unique interests and preferences. By harnessing the power of neural networks, we can revolutionize the way users explore and experience the world around them."
   ]
  },
  {
   "cell_type": "code",
   "execution_count": null,
   "id": "ce3dca03",
   "metadata": {},
   "outputs": [],
   "source": []
  },
  {
   "cell_type": "code",
   "execution_count": null,
   "id": "df430723",
   "metadata": {},
   "outputs": [],
   "source": []
  },
  {
   "cell_type": "code",
   "execution_count": null,
   "id": "3ef7d76e",
   "metadata": {},
   "outputs": [],
   "source": []
  },
  {
   "cell_type": "code",
   "execution_count": null,
   "id": "f9554df5",
   "metadata": {},
   "outputs": [],
   "source": []
  }
 ],
 "metadata": {
  "kernelspec": {
   "display_name": "tourpedia_env",
   "language": "python",
   "name": "tourpedia_env"
  },
  "language_info": {
   "codemirror_mode": {
    "name": "ipython",
    "version": 3
   },
   "file_extension": ".py",
   "mimetype": "text/x-python",
   "name": "python",
   "nbconvert_exporter": "python",
   "pygments_lexer": "ipython3",
   "version": "3.11.6"
  }
 },
 "nbformat": 4,
 "nbformat_minor": 5
}
